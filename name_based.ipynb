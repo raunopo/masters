{
 "cells": [
  {
   "cell_type": "markdown",
   "id": "65aad0cd",
   "metadata": {},
   "source": [
    "# Name_based"
   ]
  },
  {
   "cell_type": "code",
   "execution_count": 1,
   "id": "ca3ed7c1",
   "metadata": {},
   "outputs": [],
   "source": [
    "import pandas as pd\n",
    "\n",
    "# CSV-faili laadimine\n",
    "df = pd.read_csv(\"df_pairs_final.csv\", sep=\";\")"
   ]
  },
  {
   "cell_type": "code",
   "execution_count": 2,
   "id": "31614e09",
   "metadata": {},
   "outputs": [
    {
     "name": "stdout",
     "output_type": "stream",
     "text": [
      "ASCII skeemide tulemused:\n",
      "\n",
      "            Skeem  Parim lävend  Täpsus  Saagis  F1-skoor\n",
      "        bgn_ascii          0.32  0.9430  0.8636    0.9015\n",
      "         OS_ascii          0.32  0.9468  0.8564    0.8994\n",
      "     gost_b_ascii          0.31  0.9210  0.8710    0.8953\n",
      "        eki_ascii          0.31  0.9193  0.8726    0.8953\n",
      "       iso9_ascii          0.31  0.9198  0.8703    0.8944\n",
      "       icao_ascii          0.32  0.9379  0.8544    0.8942\n",
      "rt_translit_ascii          0.31  0.9259  0.8638    0.8937\n",
      "     dstu_b_ascii          0.30  0.9116  0.8741    0.8924\n",
      "     dstu_a_ascii          0.30  0.9176  0.8592    0.8874\n"
     ]
    }
   ],
   "source": [
    "import pandas as pd\n",
    "import numpy as np\n",
    "from jellyfish import jaro_winkler_similarity, soundex\n",
    "from sklearn.metrics import precision_recall_fscore_support\n",
    "\n",
    "# --- Käsitsi määratletud ASCII transliteratsiooniskeemide veerud ---\n",
    "ascii_columns = [\n",
    "    \"iso9_ascii\",\n",
    "    \"dstu_a_ascii\",\n",
    "    \"icao_ascii\",\n",
    "    \"dstu_b_ascii\",\n",
    "    \"gost_b_ascii\",\n",
    "    \"bgn_ascii\",\n",
    "    \"rt_translit_ascii\",\n",
    "    \"eki_ascii\",\n",
    "    \"OS_ascii\"\n",
    "]\n",
    "\n",
    "# --- Skooriveergude nimed ---\n",
    "ascii_score_cols = [col + \"_score\" for col in ascii_columns]\n",
    "\n",
    "# --- Name-based skooride arvutus ---\n",
    "for col, score_col in zip(ascii_columns, ascii_score_cols):\n",
    "    scores = []\n",
    "    for name1, name2 in zip(df[col], df[\"name_ascii\"]):\n",
    "        if not name1 or not name2:\n",
    "            score = 0.0\n",
    "        else:\n",
    "            name1 = name1.lower().strip()\n",
    "            name2 = name2.lower().strip()\n",
    "            jaro = jaro_winkler_similarity(name1, name2)\n",
    "            s1 = soundex(name1)\n",
    "            s2 = soundex(name2)\n",
    "            sound_score = 1.0 if s1 == s2 else 0.0\n",
    "            score = 0.5 * jaro + 0.5 * sound_score\n",
    "        scores.append(score)\n",
    "    df[score_col] = scores\n",
    "\n",
    "# --- Parimate lävendite leidmine ---\n",
    "results = []\n",
    "\n",
    "for score_col in ascii_score_cols:\n",
    "    best_f1 = 0.0\n",
    "    best_threshold = 0.0\n",
    "    best_precision = 0.0\n",
    "    best_recall = 0.0\n",
    "\n",
    "    for threshold in np.arange(0.0, 1.01, 0.01):\n",
    "        preds = df[score_col] >= threshold\n",
    "        precision, recall, f1, _ = precision_recall_fscore_support(\n",
    "            df[\"label\"], preds, average='binary', zero_division=0\n",
    "        )\n",
    "        if f1 > best_f1:\n",
    "            best_f1 = f1\n",
    "            best_threshold = threshold\n",
    "            best_precision = precision\n",
    "            best_recall = recall\n",
    "\n",
    "    scheme_name = score_col.replace(\"_score\", \"\")\n",
    "    results.append({\n",
    "        \"Skeem\": scheme_name,\n",
    "        \"Parim lävend\": round(best_threshold, 2),\n",
    "        \"Täpsus\": round(best_precision, 4),\n",
    "        \"Saagis\": round(best_recall, 4),\n",
    "        \"F1-skoor\": round(best_f1, 4)\n",
    "    })\n",
    "\n",
    "# --- Tulemuste tabel ---\n",
    "results_ascii = pd.DataFrame(results).sort_values(by=\"F1-skoor\", ascending=False)\n",
    "\n",
    "print(\"ASCII skeemide tulemused:\\n\")\n",
    "print(results_ascii.to_string(index=False))"
   ]
  },
  {
   "cell_type": "code",
   "execution_count": null,
   "id": "54cb5f31",
   "metadata": {},
   "outputs": [],
   "source": [
    "#!jupyter nbconvert --to html name_based.ipynb --log-level=ERROR > nul 2>&1"
   ]
  }
 ],
 "metadata": {
  "kernelspec": {
   "display_name": "Python 3",
   "language": "python",
   "name": "python3"
  },
  "language_info": {
   "codemirror_mode": {
    "name": "ipython",
    "version": 3
   },
   "file_extension": ".py",
   "mimetype": "text/x-python",
   "name": "python",
   "nbconvert_exporter": "python",
   "pygments_lexer": "ipython3",
   "version": "3.12.0"
  }
 },
 "nbformat": 4,
 "nbformat_minor": 5
}
