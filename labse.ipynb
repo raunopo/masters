{
 "cells": [
  {
   "cell_type": "markdown",
   "id": "5da5e68d",
   "metadata": {},
   "source": [
    "# LaBSE"
   ]
  },
  {
   "cell_type": "code",
   "execution_count": 1,
   "id": "fdf4e521",
   "metadata": {},
   "outputs": [],
   "source": [
    "import pandas as pd\n",
    "\n",
    "# CSV-faili laadimine\n",
    "df = pd.read_csv(\"df_pairs_final.csv\", sep=\";\")"
   ]
  },
  {
   "cell_type": "code",
   "execution_count": 2,
   "id": "531650e2",
   "metadata": {},
   "outputs": [
    {
     "name": "stdout",
     "output_type": "stream",
     "text": [
      "Requirement already satisfied: sentence_transformers in c:\\users\\kasutaja\\appdata\\local\\programs\\python\\python312\\lib\\site-packages (4.1.0)\n",
      "Requirement already satisfied: transformers<5.0.0,>=4.41.0 in c:\\users\\kasutaja\\appdata\\local\\programs\\python\\python312\\lib\\site-packages (from sentence_transformers) (4.51.1)\n",
      "Requirement already satisfied: tqdm in c:\\users\\kasutaja\\appdata\\local\\programs\\python\\python312\\lib\\site-packages (from sentence_transformers) (4.67.1)\n",
      "Requirement already satisfied: torch>=1.11.0 in c:\\users\\kasutaja\\appdata\\local\\programs\\python\\python312\\lib\\site-packages (from sentence_transformers) (2.6.0)\n",
      "Requirement already satisfied: scikit-learn in c:\\users\\kasutaja\\appdata\\local\\programs\\python\\python312\\lib\\site-packages (from sentence_transformers) (1.6.1)\n",
      "Requirement already satisfied: scipy in c:\\users\\kasutaja\\appdata\\local\\programs\\python\\python312\\lib\\site-packages (from sentence_transformers) (1.15.2)\n",
      "Requirement already satisfied: huggingface-hub>=0.20.0 in c:\\users\\kasutaja\\appdata\\local\\programs\\python\\python312\\lib\\site-packages (from sentence_transformers) (0.30.2)\n",
      "Requirement already satisfied: Pillow in c:\\users\\kasutaja\\appdata\\local\\programs\\python\\python312\\lib\\site-packages (from sentence_transformers) (11.1.0)\n",
      "Requirement already satisfied: typing_extensions>=4.5.0 in c:\\users\\kasutaja\\appdata\\local\\programs\\python\\python312\\lib\\site-packages (from sentence_transformers) (4.13.1)\n",
      "Requirement already satisfied: filelock in c:\\users\\kasutaja\\appdata\\local\\programs\\python\\python312\\lib\\site-packages (from transformers<5.0.0,>=4.41.0->sentence_transformers) (3.18.0)\n",
      "Requirement already satisfied: numpy>=1.17 in c:\\users\\kasutaja\\appdata\\local\\programs\\python\\python312\\lib\\site-packages (from transformers<5.0.0,>=4.41.0->sentence_transformers) (2.2.4)\n",
      "Requirement already satisfied: packaging>=20.0 in c:\\users\\kasutaja\\appdata\\roaming\\python\\python312\\site-packages (from transformers<5.0.0,>=4.41.0->sentence_transformers) (24.0)\n",
      "Requirement already satisfied: pyyaml>=5.1 in c:\\users\\kasutaja\\appdata\\local\\programs\\python\\python312\\lib\\site-packages (from transformers<5.0.0,>=4.41.0->sentence_transformers) (6.0.2)\n",
      "Requirement already satisfied: regex!=2019.12.17 in c:\\users\\kasutaja\\appdata\\local\\programs\\python\\python312\\lib\\site-packages (from transformers<5.0.0,>=4.41.0->sentence_transformers) (2024.11.6)\n",
      "Requirement already satisfied: requests in c:\\users\\kasutaja\\appdata\\local\\programs\\python\\python312\\lib\\site-packages (from transformers<5.0.0,>=4.41.0->sentence_transformers) (2.32.3)\n",
      "Requirement already satisfied: tokenizers<0.22,>=0.21 in c:\\users\\kasutaja\\appdata\\local\\programs\\python\\python312\\lib\\site-packages (from transformers<5.0.0,>=4.41.0->sentence_transformers) (0.21.1)\n",
      "Requirement already satisfied: safetensors>=0.4.3 in c:\\users\\kasutaja\\appdata\\local\\programs\\python\\python312\\lib\\site-packages (from transformers<5.0.0,>=4.41.0->sentence_transformers) (0.5.3)\n",
      "Requirement already satisfied: fsspec>=2023.5.0 in c:\\users\\kasutaja\\appdata\\local\\programs\\python\\python312\\lib\\site-packages (from huggingface-hub>=0.20.0->sentence_transformers) (2025.3.2)\n",
      "Requirement already satisfied: networkx in c:\\users\\kasutaja\\appdata\\local\\programs\\python\\python312\\lib\\site-packages (from torch>=1.11.0->sentence_transformers) (3.4.2)\n",
      "Requirement already satisfied: jinja2 in c:\\users\\kasutaja\\appdata\\local\\programs\\python\\python312\\lib\\site-packages (from torch>=1.11.0->sentence_transformers) (3.1.2)\n",
      "Requirement already satisfied: setuptools in c:\\users\\kasutaja\\appdata\\local\\programs\\python\\python312\\lib\\site-packages (from torch>=1.11.0->sentence_transformers) (78.1.0)\n",
      "Requirement already satisfied: sympy==1.13.1 in c:\\users\\kasutaja\\appdata\\local\\programs\\python\\python312\\lib\\site-packages (from torch>=1.11.0->sentence_transformers) (1.13.1)\n",
      "Requirement already satisfied: mpmath<1.4,>=1.1.0 in c:\\users\\kasutaja\\appdata\\local\\programs\\python\\python312\\lib\\site-packages (from sympy==1.13.1->torch>=1.11.0->sentence_transformers) (1.3.0)\n",
      "Requirement already satisfied: colorama in c:\\users\\kasutaja\\appdata\\local\\programs\\python\\python312\\lib\\site-packages (from tqdm->sentence_transformers) (0.4.6)\n",
      "Requirement already satisfied: MarkupSafe>=2.0 in c:\\users\\kasutaja\\appdata\\local\\programs\\python\\python312\\lib\\site-packages (from jinja2->torch>=1.11.0->sentence_transformers) (2.1.3)\n",
      "Requirement already satisfied: charset-normalizer<4,>=2 in c:\\users\\kasutaja\\appdata\\local\\programs\\python\\python312\\lib\\site-packages (from requests->transformers<5.0.0,>=4.41.0->sentence_transformers) (3.4.1)\n",
      "Requirement already satisfied: idna<4,>=2.5 in c:\\users\\kasutaja\\appdata\\local\\programs\\python\\python312\\lib\\site-packages (from requests->transformers<5.0.0,>=4.41.0->sentence_transformers) (3.10)\n",
      "Requirement already satisfied: urllib3<3,>=1.21.1 in c:\\users\\kasutaja\\appdata\\local\\programs\\python\\python312\\lib\\site-packages (from requests->transformers<5.0.0,>=4.41.0->sentence_transformers) (2.3.0)\n",
      "Requirement already satisfied: certifi>=2017.4.17 in c:\\users\\kasutaja\\appdata\\local\\programs\\python\\python312\\lib\\site-packages (from requests->transformers<5.0.0,>=4.41.0->sentence_transformers) (2025.1.31)\n",
      "Requirement already satisfied: joblib>=1.2.0 in c:\\users\\kasutaja\\appdata\\local\\programs\\python\\python312\\lib\\site-packages (from scikit-learn->sentence_transformers) (1.4.2)\n",
      "Requirement already satisfied: threadpoolctl>=3.1.0 in c:\\users\\kasutaja\\appdata\\local\\programs\\python\\python312\\lib\\site-packages (from scikit-learn->sentence_transformers) (3.6.0)\n",
      "Note: you may need to restart the kernel to use updated packages.\n"
     ]
    }
   ],
   "source": [
    "pip install sentence_transformers"
   ]
  },
  {
   "cell_type": "code",
   "execution_count": 3,
   "id": "732191f3",
   "metadata": {},
   "outputs": [
    {
     "name": "stdout",
     "output_type": "stream",
     "text": [
      "Requirement already satisfied: matplotlib in c:\\users\\kasutaja\\appdata\\local\\programs\\python\\python312\\lib\\site-packages (3.10.1)\n",
      "Requirement already satisfied: contourpy>=1.0.1 in c:\\users\\kasutaja\\appdata\\local\\programs\\python\\python312\\lib\\site-packages (from matplotlib) (1.3.1)\n",
      "Requirement already satisfied: cycler>=0.10 in c:\\users\\kasutaja\\appdata\\local\\programs\\python\\python312\\lib\\site-packages (from matplotlib) (0.12.1)\n",
      "Requirement already satisfied: fonttools>=4.22.0 in c:\\users\\kasutaja\\appdata\\local\\programs\\python\\python312\\lib\\site-packages (from matplotlib) (4.57.0)\n",
      "Requirement already satisfied: kiwisolver>=1.3.1 in c:\\users\\kasutaja\\appdata\\local\\programs\\python\\python312\\lib\\site-packages (from matplotlib) (1.4.8)\n",
      "Requirement already satisfied: numpy>=1.23 in c:\\users\\kasutaja\\appdata\\local\\programs\\python\\python312\\lib\\site-packages (from matplotlib) (2.2.4)\n",
      "Requirement already satisfied: packaging>=20.0 in c:\\users\\kasutaja\\appdata\\roaming\\python\\python312\\site-packages (from matplotlib) (24.0)\n",
      "Requirement already satisfied: pillow>=8 in c:\\users\\kasutaja\\appdata\\local\\programs\\python\\python312\\lib\\site-packages (from matplotlib) (11.1.0)\n",
      "Requirement already satisfied: pyparsing>=2.3.1 in c:\\users\\kasutaja\\appdata\\local\\programs\\python\\python312\\lib\\site-packages (from matplotlib) (3.2.3)\n",
      "Requirement already satisfied: python-dateutil>=2.7 in c:\\users\\kasutaja\\appdata\\roaming\\python\\python312\\site-packages (from matplotlib) (2.9.0.post0)\n",
      "Requirement already satisfied: six>=1.5 in c:\\users\\kasutaja\\appdata\\roaming\\python\\python312\\site-packages (from python-dateutil>=2.7->matplotlib) (1.16.0)\n",
      "Note: you may need to restart the kernel to use updated packages.\n"
     ]
    }
   ],
   "source": [
    "pip install matplotlib"
   ]
  },
  {
   "cell_type": "code",
   "execution_count": 4,
   "id": "904c7f66",
   "metadata": {},
   "outputs": [
    {
     "name": "stdout",
     "output_type": "stream",
     "text": [
      "Requirement already satisfied: tabulate in c:\\users\\kasutaja\\appdata\\local\\programs\\python\\python312\\lib\\site-packages (0.9.0)\n",
      "Note: you may need to restart the kernel to use updated packages.\n"
     ]
    }
   ],
   "source": [
    "pip install tabulate"
   ]
  },
  {
   "cell_type": "code",
   "execution_count": 5,
   "id": "27c9e1c3",
   "metadata": {},
   "outputs": [
    {
     "name": "stderr",
     "output_type": "stream",
     "text": [
      "c:\\Users\\Kasutaja\\AppData\\Local\\Programs\\Python\\Python312\\Lib\\site-packages\\tqdm\\auto.py:21: TqdmWarning: IProgress not found. Please update jupyter and ipywidgets. See https://ipywidgets.readthedocs.io/en/stable/user_install.html\n",
      "  from .autonotebook import tqdm as notebook_tqdm\n"
     ]
    },
    {
     "name": "stdout",
     "output_type": "stream",
     "text": [
      "Laadin andmevalimi ja mudeli...\n"
     ]
    }
   ],
   "source": [
    "# --- Impordid ---\n",
    "import pandas as pd\n",
    "import numpy as np\n",
    "import torch\n",
    "from sklearn.metrics import precision_recall_curve, precision_recall_fscore_support\n",
    "from sentence_transformers import SentenceTransformer\n",
    "from tabulate import tabulate\n",
    "\n",
    "# --- Parima F1 lävendi leidmine ---\n",
    "def find_best_threshold(df: pd.DataFrame, score_col: str, label_col: str = \"label\"):\n",
    "    y_true = df[label_col].astype(int).values\n",
    "    y_scores = df[score_col].values\n",
    "    precisions, recalls, thresholds = precision_recall_curve(y_true, y_scores)\n",
    "    f1_scores = 2 * (precisions * recalls) / (precisions + recalls + 1e-10)\n",
    "    best_idx = np.argmax(f1_scores)\n",
    "    best_thresh = thresholds[best_idx]\n",
    "    best_f1 = f1_scores[best_idx]\n",
    "    best_prec = precisions[best_idx]\n",
    "    best_rec = recalls[best_idx]\n",
    "    f1_curve = list(zip(thresholds, f1_scores[:-1]))\n",
    "    return best_thresh, best_f1, best_prec, best_rec, f1_curve\n",
    "\n",
    "# --- Kõikide skeemide tulemused ---\n",
    "def find_best_thresholds_for_all(df: pd.DataFrame, score_cols: list[str], label_col: str = \"label\"):\n",
    "    results = []\n",
    "    all_curves = {}\n",
    "    for col in score_cols:\n",
    "        best_thresh, best_f1, best_prec, best_rec, f1_curve = find_best_threshold(df, col, label_col)\n",
    "        scheme_name = col.replace(\"_score\", \"\")\n",
    "        if \"_ascii\" in col:\n",
    "            scheme_name += \"_ascii\"\n",
    "        results.append({\n",
    "            \"Skeem\": scheme_name,\n",
    "            \"Parim lävend\": round(best_thresh, 2),\n",
    "            \"Täpsus\": round(best_prec, 4),\n",
    "            \"Saagis\": round(best_rec, 4),\n",
    "            \"F1-skoor\": round(best_f1, 4)\n",
    "        })\n",
    "        all_curves[col] = f1_curve\n",
    "    return pd.DataFrame(results).sort_values(by=\"F1-skoor\", ascending=False), all_curves\n",
    "\n",
    "# --- LaBSE sarnasuste arvutamine ---\n",
    "def calculate_similarities(text_pairs, model):\n",
    "    similarities = []\n",
    "    for text1, text2 in text_pairs:\n",
    "        emb1 = model.encode(text1, convert_to_tensor=True)\n",
    "        emb2 = model.encode(text2, convert_to_tensor=True)\n",
    "        sim = torch.nn.functional.cosine_similarity(emb1.unsqueeze(0), emb2.unsqueeze(0))\n",
    "        similarities.append(sim.item())\n",
    "    return np.array(similarities)\n",
    "\n",
    "# --- Andmevalim ja mudel ---\n",
    "print(\"Laadin andmevalimi ja mudeli...\")\n",
    "df_sample = pd.concat([\n",
    "    df[df['label'] == True].sample(5000, random_state=42),\n",
    "    df[df['label'] == False].sample(5000, random_state=42)\n",
    "])\n",
    "model = SentenceTransformer('LaBSE')\n"
   ]
  },
  {
   "cell_type": "code",
   "execution_count": 6,
   "id": "c171b7ba",
   "metadata": {},
   "outputs": [
    {
     "name": "stdout",
     "output_type": "stream",
     "text": [
      "Töötlen skeemi: OS_ascii\n",
      "Töötlen skeemi: alias_final\n",
      "Töötlen skeemi: iso9\n",
      "Töötlen skeemi: dstu_a\n",
      "Töötlen skeemi: icao\n",
      "Töötlen skeemi: dstu_b\n",
      "Töötlen skeemi: gost_b\n",
      "Töötlen skeemi: bgn\n",
      "Töötlen skeemi: rt_translit\n",
      "Töötlen skeemi: eki\n",
      "Töötlen skeemi: iso9_ascii\n",
      "Töötlen skeemi: dstu_a_ascii\n",
      "Töötlen skeemi: icao_ascii\n",
      "Töötlen skeemi: dstu_b_ascii\n",
      "Töötlen skeemi: gost_b_ascii\n",
      "Töötlen skeemi: bgn_ascii\n",
      "Töötlen skeemi: rt_translit_ascii\n",
      "Töötlen skeemi: eki_ascii\n",
      "\n",
      "TULEMUSED (LaBSE + name_final):\n",
      "    Skeem                      Parim lävend    Täpsus    Saagis    F1-skoor\n",
      "12  icao_ascii_ascii                 0.5200    0.9534    0.9360      0.9446\n",
      " 4  icao                             0.5200    0.9534    0.9360      0.9446\n",
      "15  bgn_ascii_ascii                  0.5000    0.9456    0.9416      0.9436\n",
      " 7  bgn                              0.5000    0.9463    0.9406      0.9434\n",
      " 6  gost_b                           0.5100    0.9497    0.9260      0.9377\n",
      " 0  OS_ascii_ascii                   0.5000    0.9386    0.9352      0.9369\n",
      "17  eki_ascii_ascii                  0.5000    0.9473    0.9268      0.9369\n",
      "13  dstu_b_ascii_ascii               0.4900    0.9513    0.9226      0.9367\n",
      "14  gost_b_ascii_ascii               0.5000    0.9476    0.9260      0.9367\n",
      " 9  eki                              0.4700    0.9330    0.9382      0.9356\n",
      "11  dstu_a_ascii_ascii               0.4600    0.9244    0.9462      0.9352\n",
      " 5  dstu_b                           0.4700    0.9377    0.9324      0.9350\n",
      "16  rt_translit_ascii_ascii          0.5000    0.9502    0.9198      0.9348\n",
      " 2  iso9                             0.4700    0.9303    0.9390      0.9346\n",
      "10  iso9_ascii_ascii                 0.5000    0.9422    0.9266      0.9344\n",
      " 8  rt_translit                      0.4700    0.9358    0.9296      0.9327\n",
      " 1  alias_final                      0.4800    0.9353    0.9252      0.9302\n",
      " 3  dstu_a                           0.4600    0.9282    0.9182      0.9232\n"
     ]
    }
   ],
   "source": [
    "columns_to_compare = [\n",
    "                     \"OS_ascii\",\n",
    "                     \"alias_final\",\n",
    "                      \n",
    "                     \"iso9\",\n",
    "                     \"dstu_a\",\n",
    "                     \"icao\",\n",
    "                     \"dstu_b\",\n",
    "                     \"gost_b\",\n",
    "                     \"bgn\",\n",
    "                     \"rt_translit\",\n",
    "                     \"eki\",\n",
    "                     \n",
    "                     \"iso9_ascii\",\n",
    "                     \"dstu_a_ascii\",\n",
    "                     \"icao_ascii\",\n",
    "                     \"dstu_b_ascii\",\n",
    "                     \"gost_b_ascii\",\n",
    "                     \"bgn_ascii\",\n",
    "                     \"rt_translit_ascii\",\n",
    "                     \"eki_ascii\"\n",
    "                     ]\n",
    "score_columns = []\n",
    "\n",
    "for col in columns_to_compare:\n",
    "    print(f\"Töötlen skeemi: {col}\")\n",
    "    text_pairs = list(zip(df_sample[\"name_final\"], df_sample[col]))\n",
    "    similarities = calculate_similarities(text_pairs, model)\n",
    "    df_sample[f\"{col}_score\"] = similarities\n",
    "    score_columns.append(f\"{col}_score\")\n",
    "\n",
    "results_df, _ = find_best_thresholds_for_all(df_sample, score_columns)\n",
    "\n",
    "print(tabulate(results_df, headers='keys', tablefmt='plain', floatfmt=\".4f\"))\n"
   ]
  },
  {
   "cell_type": "code",
   "execution_count": 7,
   "id": "303e1c6a",
   "metadata": {},
   "outputs": [
    {
     "name": "stdout",
     "output_type": "stream",
     "text": [
      "Töötlen skeemi: alias_final\n",
      "Töötlen skeemi: iso9_ascii\n",
      "Töötlen skeemi: dstu_a_ascii\n",
      "Töötlen skeemi: icao_ascii\n",
      "Töötlen skeemi: dstu_b_ascii\n",
      "Töötlen skeemi: gost_b_ascii\n",
      "Töötlen skeemi: bgn_ascii\n",
      "Töötlen skeemi: rt_translit_ascii\n",
      "Töötlen skeemi: eki_ascii\n",
      "Töötlen skeemi: OS_ascii\n",
      "    Skeem                      Parim lävend    Täpsus    Saagis    F1-skoor\n",
      " 3  icao_ascii_ascii                 0.5000    0.9416    0.9484      0.9450\n",
      " 6  bgn_ascii_ascii                  0.5000    0.9458    0.9414      0.9436\n",
      " 9  OS_ascii_ascii                   0.5000    0.9389    0.9370      0.9379\n",
      " 8  eki_ascii_ascii                  0.5000    0.9475    0.9280      0.9377\n",
      " 4  dstu_b_ascii_ascii               0.4700    0.9393    0.9352      0.9373\n",
      " 5  gost_b_ascii_ascii               0.5200    0.9568    0.9170      0.9365\n",
      " 2  dstu_a_ascii_ascii               0.4600    0.9274    0.9456      0.9364\n",
      " 7  rt_translit_ascii_ascii          0.5000    0.9503    0.9212      0.9355\n",
      " 1  iso9_ascii_ascii                 0.5000    0.9424    0.9268      0.9346\n",
      " 0  alias_final                      0.4700    0.9301    0.9284      0.9292\n"
     ]
    }
   ],
   "source": [
    "columns_to_compare = [\n",
    "                     \"alias_final\",\n",
    "                     \"iso9_ascii\",\n",
    "                     \"dstu_a_ascii\",\n",
    "                     \"icao_ascii\",\n",
    "                     \"dstu_b_ascii\",\n",
    "                     \"gost_b_ascii\",\n",
    "                     \"bgn_ascii\",\n",
    "                     \"rt_translit_ascii\",\n",
    "                     \"eki_ascii\",\n",
    "                     \"OS_ascii\"\n",
    "                     ]\n",
    "score_columns = []\n",
    "\n",
    "for col in columns_to_compare:\n",
    "    print(f\"Töötlen skeemi: {col}\")\n",
    "    text_pairs = list(zip(df_sample[\"name_ascii\"], df_sample[col]))\n",
    "    similarities = calculate_similarities(text_pairs, model)\n",
    "    df_sample[f\"{col}_score\"] = similarities\n",
    "    score_columns.append(f\"{col}_score\")\n",
    "\n",
    "results_df, _ = find_best_thresholds_for_all(df_sample, score_columns)\n",
    "\n",
    "print(tabulate(results_df, headers='keys', tablefmt='plain', floatfmt=\".4f\"))\n"
   ]
  },
  {
   "cell_type": "code",
   "execution_count": null,
   "id": "2e689b15",
   "metadata": {},
   "outputs": [],
   "source": [
    "#!jupyter nbconvert --to html labse.ipynb --log-level=ERROR > nul 2>&1"
   ]
  }
 ],
 "metadata": {
  "kernelspec": {
   "display_name": "Python 3",
   "language": "python",
   "name": "python3"
  },
  "language_info": {
   "codemirror_mode": {
    "name": "ipython",
    "version": 3
   },
   "file_extension": ".py",
   "mimetype": "text/x-python",
   "name": "python",
   "nbconvert_exporter": "python",
   "pygments_lexer": "ipython3",
   "version": "3.12.0"
  }
 },
 "nbformat": 4,
 "nbformat_minor": 5
}
