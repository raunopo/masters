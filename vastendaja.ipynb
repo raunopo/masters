{
 "cells": [
  {
   "cell_type": "markdown",
   "id": "65aad0cd",
   "metadata": {},
   "source": [
    "# Vastendaja"
   ]
  },
  {
   "cell_type": "code",
   "execution_count": 4,
   "id": "ca3ed7c1",
   "metadata": {},
   "outputs": [],
   "source": [
    "import pandas as pd\n",
    "\n",
    "# CSV-faili laadimine\n",
    "df = pd.read_csv(\"df_pairs_final.csv\", sep=\";\")"
   ]
  },
  {
   "cell_type": "code",
   "execution_count": 2,
   "id": "e5309af1",
   "metadata": {},
   "outputs": [],
   "source": [
    "import pandas as pd\n",
    "import numpy as np\n",
    "from sklearn.feature_extraction.text import TfidfVectorizer\n",
    "from sklearn.metrics.pairwise import cosine_similarity\n",
    "from sklearn.metrics import precision_recall_fscore_support\n",
    "\n",
    "# --- Tokeniseerimine n-märkide kaupa ---\n",
    "def tokenize_with_spaces(text: str, token_length: int = 3) -> list:\n",
    "    if pd.isna(text):\n",
    "        return []\n",
    "    tokens = []\n",
    "    for word in str(text).split():\n",
    "        for i in range(0, len(word), token_length):\n",
    "            token = word[i:i+token_length]\n",
    "            if len(token) >= 2:\n",
    "                tokens.append(token)\n",
    "    return tokens\n",
    "\n",
    "# --- Cosine-skoor TF-IDF-iga ---\n",
    "def ngram_similarity(str1: str, str2: str, n_min: int = 3, n_max: int = 4) -> float:\n",
    "    tokens1 = ' '.join(tokenize_with_spaces(str1))\n",
    "    tokens2 = ' '.join(tokenize_with_spaces(str2))\n",
    "    vectorizer = TfidfVectorizer(analyzer='char', ngram_range=(n_min, n_max))\n",
    "    try:\n",
    "        tfidf = vectorizer.fit_transform([tokens1, tokens2])\n",
    "        score = cosine_similarity(tfidf[0:1], tfidf[1:2])[0][0]\n",
    "    except:\n",
    "        score = 0.0\n",
    "    return score\n",
    "\n",
    "# --- Parima F1 lävendi leidmine ---\n",
    "def find_best_threshold(df, score_col: str, label_col: str = \"label\", \n",
    "                        thresholds: np.ndarray = np.arange(0.0, 1.01, 0.01)) -> tuple:\n",
    "    best_f1 = 0.0\n",
    "    best_threshold = 0.0\n",
    "    best_metrics = (0.0, 0.0, 0.0)\n",
    "    for threshold in thresholds:\n",
    "        preds = df[score_col] >= threshold\n",
    "        precision, recall, f1, _ = precision_recall_fscore_support(\n",
    "            df[label_col], preds, average='binary', zero_division=0)\n",
    "        if f1 > best_f1:\n",
    "            best_f1 = f1\n",
    "            best_threshold = threshold\n",
    "            best_metrics = (precision, recall, f1)\n",
    "    return best_threshold, *best_metrics\n",
    "\n",
    "# --- Skeemide hindamine ilma graafikuteta ---\n",
    "def evaluate_all_schemes(df: pd.DataFrame, schemes: list, name_col: str = \"name_final\") -> pd.DataFrame:\n",
    "    results = []\n",
    "    for scheme in schemes:\n",
    "        print(f\"→ Töötlen skeemi: {scheme} ...\")\n",
    "        try:\n",
    "            df[f\"sim_{scheme}\"] = df.apply(\n",
    "                lambda row: ngram_similarity(row[name_col], row[scheme]), axis=1\n",
    "            )\n",
    "            threshold, precision, recall, f1 = find_best_threshold(df, f\"sim_{scheme}\")\n",
    "            results.append({\n",
    "                \"Skeem\": scheme,\n",
    "                \"Lävend\": round(threshold, 2),\n",
    "                \"Täpsus\": round(precision, 4),\n",
    "                \"Saagis\": round(recall, 4),\n",
    "                \"F1\": round(f1, 4)\n",
    "            })\n",
    "        except Exception as e:\n",
    "            print(f\"Viga skeemiga {scheme}: {e}\")\n",
    "            continue\n",
    "    return pd.DataFrame(results).sort_values(by=\"F1\", ascending=False)\n"
   ]
  },
  {
   "cell_type": "code",
   "execution_count": 5,
   "id": "13adf01c",
   "metadata": {},
   "outputs": [
    {
     "name": "stdout",
     "output_type": "stream",
     "text": [
      "→ Töötlen skeemi: iso9 ...\n",
      "→ Töötlen skeemi: dstu_a ...\n",
      "→ Töötlen skeemi: icao ...\n",
      "→ Töötlen skeemi: dstu_b ...\n",
      "→ Töötlen skeemi: gost_b ...\n",
      "→ Töötlen skeemi: bgn ...\n",
      "→ Töötlen skeemi: rt_translit ...\n",
      "→ Töötlen skeemi: eki ...\n",
      "→ Töötlen skeemi: OS_ascii ...\n",
      "      Skeem  Lävend  Täpsus  Saagis     F1\n",
      "       icao    0.06  0.9588  0.9286 0.9434\n",
      "        bgn    0.06  0.9615  0.9241 0.9424\n",
      "   OS_ascii    0.05  0.9546  0.9197 0.9369\n",
      "     gost_b    0.05  0.9526  0.9211 0.9366\n",
      "        eki    0.05  0.9590  0.9139 0.9359\n",
      "rt_translit    0.05  0.9606  0.9116 0.9355\n",
      "       iso9    0.04  0.9486  0.9078 0.9278\n",
      "     dstu_a    0.03  0.9408  0.8948 0.9172\n",
      "     dstu_b    0.04  0.9485  0.8878 0.9171\n"
     ]
    }
   ],
   "source": [
    "columns = [\"iso9\", \"dstu_a\", \"icao\", \"dstu_b\", \"gost_b\", \"bgn\", \"rt_translit\", \"eki\", \"OS_ascii\"]\n",
    "result_df = evaluate_all_schemes(df, columns, name_col=\"name_final\")\n",
    "\n",
    "print(result_df.to_string(index=False))"
   ]
  },
  {
   "cell_type": "code",
   "execution_count": 6,
   "id": "35ea12f5",
   "metadata": {},
   "outputs": [
    {
     "name": "stdout",
     "output_type": "stream",
     "text": [
      "→ Töötlen skeemi: iso9_ascii ...\n",
      "→ Töötlen skeemi: dstu_a_ascii ...\n",
      "→ Töötlen skeemi: icao_ascii ...\n",
      "→ Töötlen skeemi: dstu_b_ascii ...\n",
      "→ Töötlen skeemi: gost_b_ascii ...\n",
      "→ Töötlen skeemi: bgn_ascii ...\n",
      "→ Töötlen skeemi: rt_translit_ascii ...\n",
      "→ Töötlen skeemi: eki_ascii ...\n",
      "→ Töötlen skeemi: OS_ascii ...\n",
      "            Skeem  Lävend  Täpsus  Saagis     F1\n",
      "       icao_ascii    0.06  0.9584  0.9310 0.9445\n",
      "        bgn_ascii    0.06  0.9611  0.9268 0.9436\n",
      "        eki_ascii    0.05  0.9565  0.9266 0.9413\n",
      "rt_translit_ascii    0.05  0.9575  0.9249 0.9409\n",
      "         OS_ascii    0.06  0.9647  0.9138 0.9386\n",
      "     gost_b_ascii    0.06  0.9626  0.9143 0.9379\n",
      "       iso9_ascii    0.05  0.9557  0.9191 0.9371\n",
      "     dstu_a_ascii    0.04  0.9529  0.9058 0.9288\n",
      "     dstu_b_ascii    0.04  0.9481  0.8942 0.9203\n"
     ]
    }
   ],
   "source": [
    "ascii_columns = [\"iso9_ascii\", \"dstu_a_ascii\", \"icao_ascii\", \"dstu_b_ascii\", \"gost_b_ascii\", \"bgn_ascii\", \"rt_translit_ascii\", \"eki_ascii\", \"OS_ascii\"]\n",
    "result_df_ascii = evaluate_all_schemes(df, ascii_columns, name_col=\"name_ascii\")\n",
    "\n",
    "print(result_df_ascii.to_string(index=False))"
   ]
  },
  {
   "cell_type": "code",
   "execution_count": null,
   "id": "705821d1",
   "metadata": {},
   "outputs": [],
   "source": [
    "# !jupyter nbconvert --to html vastendaja.ipynb --log-level=ERROR > nul 2>&1"
   ]
  }
 ],
 "metadata": {
  "kernelspec": {
   "display_name": "Python 3",
   "language": "python",
   "name": "python3"
  },
  "language_info": {
   "codemirror_mode": {
    "name": "ipython",
    "version": 3
   },
   "file_extension": ".py",
   "mimetype": "text/x-python",
   "name": "python",
   "nbconvert_exporter": "python",
   "pygments_lexer": "ipython3",
   "version": "3.12.0"
  }
 },
 "nbformat": 4,
 "nbformat_minor": 5
}
