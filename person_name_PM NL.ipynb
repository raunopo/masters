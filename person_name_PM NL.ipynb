{
 "cells": [
  {
   "cell_type": "markdown",
   "id": "bc8b67f5",
   "metadata": {},
   "source": [
    "# person_name PM + NL"
   ]
  },
  {
   "cell_type": "code",
   "execution_count": 1,
   "id": "6259a928",
   "metadata": {},
   "outputs": [],
   "source": [
    "import pandas as pd\n",
    "\n",
    "# CSV-faili laadimine\n",
    "df = pd.read_csv(\"df_pairs_final.csv\", sep=\";\")"
   ]
  },
  {
   "cell_type": "code",
   "execution_count": 4,
   "id": "1f3cf222",
   "metadata": {},
   "outputs": [],
   "source": [
    "import pandas as pd\n",
    "import numpy as np\n",
    "from jellyfish import metaphone, levenshtein_distance\n",
    "from sklearn.metrics import precision_recall_fscore_support\n",
    "\n",
    "# Parameetrid\n",
    "MAX_LEV_ABS = 4\n",
    "MAX_LEV_PCT = 0.25\n",
    "\n",
    "# --- Foneetiline skoor (normaliseeritud Levenshtein) ---\n",
    "def phonetic_score(name1, name2, min_code_len=3, max_lev_abs=MAX_LEV_ABS, max_lev_pct=MAX_LEV_PCT):\n",
    "    def tokenize(name): return name.lower().split()\n",
    "    def encode(tokens): return [\n",
    "        metaphone(tok) for tok in tokens if len(metaphone(tok)) >= min_code_len\n",
    "    ]\n",
    "    tokens1 = encode(tokenize(name1))\n",
    "    tokens2 = encode(tokenize(name2))\n",
    "    if not tokens1 or not tokens2:\n",
    "        return 0.0\n",
    "    matches, used = [], set()\n",
    "    for t1 in tokens1:\n",
    "        best_match, best_score = None, 0.0\n",
    "        for i, t2 in enumerate(tokens2):\n",
    "            if i in used:\n",
    "                continue\n",
    "            if t1 == t2:\n",
    "                best_match, best_score = i, 1.0\n",
    "                break\n",
    "            dist = levenshtein_distance(t1, t2)\n",
    "            allowed = min(max_lev_abs, int(np.ceil(min(len(t1), len(t2)) * max_lev_pct)))\n",
    "            if dist <= allowed:\n",
    "                score = 1.0 - (dist / max(len(t1), len(t2)))\n",
    "                if score > best_score:\n",
    "                    best_match, best_score = i, score\n",
    "        if best_match is not None:\n",
    "            matches.append(best_score)\n",
    "            used.add(best_match)\n",
    "    return sum(matches) / len(tokens1) if matches else 0.0\n",
    "\n",
    "# --- Foneetiliste skooride arvutus ---\n",
    "def compute_phonetic_scores(df, target_col, compare_cols):\n",
    "    for col in compare_cols:\n",
    "        scores = []\n",
    "        for name1, name2 in zip(df[col], df[target_col]):\n",
    "            try:\n",
    "                score = phonetic_score(name1, name2)\n",
    "            except Exception:\n",
    "                score = 0.0\n",
    "            scores.append(score)\n",
    "        df[f\"{col}_score\"] = scores\n",
    "    return df\n",
    "\n",
    "# --- Parima F1 lävendi leidmine ---\n",
    "def find_best_threshold(df, score_col, label_col=\"label\", thresholds=np.arange(0.0, 1.01, 0.01)):\n",
    "    best_f1 = best_threshold = best_precision = best_recall = 0.0\n",
    "    for threshold in thresholds:\n",
    "        preds = df[score_col] >= threshold\n",
    "        precision, recall, f1, _ = precision_recall_fscore_support(\n",
    "            df[label_col], preds, average=\"binary\", zero_division=0\n",
    "        )\n",
    "        if f1 > best_f1:\n",
    "            best_f1, best_threshold, best_precision, best_recall = f1, threshold, precision, recall\n",
    "    return best_threshold, best_f1, best_precision, best_recall\n"
   ]
  },
  {
   "cell_type": "code",
   "execution_count": 5,
   "id": "36b7a043",
   "metadata": {},
   "outputs": [
    {
     "name": "stdout",
     "output_type": "stream",
     "text": [
      "            Skeem  Parim lävend  Täpsus  Saagis  F1-skoor\n",
      "        bgn_ascii          0.26  0.9794  0.9317    0.9550\n",
      "       icao_ascii          0.26  0.9777  0.9299    0.9532\n",
      "         OS_ascii          0.25  0.9758  0.9289    0.9518\n",
      "       iso9_ascii          0.25  0.9757  0.9256    0.9500\n",
      "        eki_ascii          0.25  0.9757  0.9257    0.9500\n",
      "rt_translit_ascii          0.20  0.9699  0.9292    0.9491\n",
      "     gost_b_ascii          0.25  0.9761  0.9228    0.9487\n",
      "     dstu_b_ascii          0.24  0.9782  0.9001    0.9375\n",
      "     dstu_a_ascii          0.20  0.9710  0.9050    0.9368\n"
     ]
    }
   ],
   "source": [
    "# Defineeri skeemid ja sihtväli\n",
    "ascii_columns = [\n",
    "    \"iso9_ascii\",\n",
    "    \"dstu_a_ascii\",\n",
    "    \"icao_ascii\",\n",
    "    \"dstu_b_ascii\",\n",
    "    \"gost_b_ascii\",\n",
    "    \"bgn_ascii\",\n",
    "    \"rt_translit_ascii\",\n",
    "    \"eki_ascii\",\n",
    "    \"OS_ascii\"\n",
    "]\n",
    "target_col = \"name_ascii\"\n",
    "score_cols = [col + \"_score\" for col in ascii_columns]\n",
    "\n",
    "# Arvuta foneetilised skoorid\n",
    "df = compute_phonetic_scores(df, target_col=target_col, compare_cols=ascii_columns)\n",
    "\n",
    "# Leia parimad lävendi tulemused\n",
    "results = []\n",
    "for score_col in score_cols:\n",
    "    best_t, best_f1, best_p, best_r = find_best_threshold(df, score_col)\n",
    "    scheme = score_col.replace(\"_score\", \"\")\n",
    "    results.append({\n",
    "        \"Skeem\": scheme,\n",
    "        \"Parim lävend\": round(best_t, 2),\n",
    "        \"Täpsus\": round(best_p, 4),\n",
    "        \"Saagis\": round(best_r, 4),\n",
    "        \"F1-skoor\": round(best_f1, 4)\n",
    "    })\n",
    "\n",
    "# Tulemuste tabel\n",
    "result_df = pd.DataFrame(results).sort_values(by=\"F1-skoor\", ascending=False)\n",
    "print(result_df.to_string(index=False))"
   ]
  },
  {
   "cell_type": "code",
   "execution_count": null,
   "id": "ad069596",
   "metadata": {},
   "outputs": [],
   "source": [
    "# !jupyter nbconvert --to html person_name_PM_NL.ipynb --log-level=ERROR > nul 2>&1"
   ]
  }
 ],
 "metadata": {
  "kernelspec": {
   "display_name": "Python 3",
   "language": "python",
   "name": "python3"
  },
  "language_info": {
   "codemirror_mode": {
    "name": "ipython",
    "version": 3
   },
   "file_extension": ".py",
   "mimetype": "text/x-python",
   "name": "python",
   "nbconvert_exporter": "python",
   "pygments_lexer": "ipython3",
   "version": "3.12.0"
  }
 },
 "nbformat": 4,
 "nbformat_minor": 5
}
