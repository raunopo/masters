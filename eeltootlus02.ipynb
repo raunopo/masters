{
 "cells": [
  {
   "cell_type": "markdown",
   "metadata": {},
   "source": [
    "## ICU/CLDR (PyICU) ümberkirjutus ei tööta Windows + Python kombinatsioonis, sest sõltub ICU C++ teekidest, mille kompileerimine ja süsteemiülene ühilduvus Windowsis põhjustab kernel crash'i. Seetõttu rakendatakse name ja alias väärtuste ICU/CLDR ümberkirjutust Google Colab keskkonnas."
   ]
  },
  {
   "cell_type": "code",
   "execution_count": 9,
   "metadata": {
    "colab": {
     "base_uri": "https://localhost:8080/"
    },
    "executionInfo": {
     "elapsed": 17231,
     "status": "ok",
     "timestamp": 1746095474059,
     "user": {
      "displayName": "Rauno Põld",
      "userId": "09447203352592851625"
     },
     "user_tz": -180
    },
    "id": "kmQLzQVpZjcA",
    "outputId": "064f0483-0a6b-4c1f-bde9-0ed39bd975f6"
   },
   "outputs": [
    {
     "name": "stdout",
     "output_type": "stream",
     "text": [
      "Mounted at /content/drive\n"
     ]
    }
   ],
   "source": [
    "from google.colab import drive\n",
    "drive.mount('/content/drive')"
   ]
  },
  {
   "cell_type": "code",
   "execution_count": null,
   "metadata": {
    "executionInfo": {
     "elapsed": 2764,
     "status": "ok",
     "timestamp": 1746095628167,
     "user": {
      "displayName": "Rauno Põld",
      "userId": "09447203352592851625"
     },
     "user_tz": -180
    },
    "id": "yWUj6zqDRJfi"
   },
   "outputs": [],
   "source": [
    "import pandas as pd\n",
    "\n",
    "df = pd.read_csv(\"/content/drive/MyDrive/Colab Notebooks/output01.csv\", sep=\";\", low_memory=False)"
   ]
  },
  {
   "cell_type": "code",
   "execution_count": 15,
   "metadata": {
    "colab": {
     "base_uri": "https://localhost:8080/"
    },
    "executionInfo": {
     "elapsed": 124,
     "status": "ok",
     "timestamp": 1746095628300,
     "user": {
      "displayName": "Rauno Põld",
      "userId": "09447203352592851625"
     },
     "user_tz": -180
    },
    "id": "7MYM2Mv6Z9GJ",
    "outputId": "8bf51cdc-0ffb-4397-e744-5849c404ac8c"
   },
   "outputs": [
    {
     "name": "stdout",
     "output_type": "stream",
     "text": [
      "<class 'pandas.core.frame.DataFrame'>\n",
      "RangeIndex: 197741 entries, 0 to 197740\n",
      "Data columns (total 16 columns):\n",
      " #   Column               Non-Null Count   Dtype \n",
      "---  ------               --------------   ----- \n",
      " 0   id                   197741 non-null  int64 \n",
      " 1   id_original          197741 non-null  object\n",
      " 2   name_original        197741 non-null  object\n",
      " 3   aliases_original     197741 non-null  object\n",
      " 4   name_clean           197741 non-null  object\n",
      " 5   alias_clean          197741 non-null  object\n",
      " 6   name_scripts         197741 non-null  object\n",
      " 7   alias_scripts        197741 non-null  object\n",
      " 8   name_script_counts   197741 non-null  object\n",
      " 9   alias_script_counts  197741 non-null  object\n",
      " 10  name_script          197741 non-null  object\n",
      " 11  alias_script         197741 non-null  object\n",
      " 12  name_final           197741 non-null  object\n",
      " 13  alias_final          197741 non-null  object\n",
      " 14  name_tokens          197741 non-null  int64 \n",
      " 15  alias_tokens         197741 non-null  int64 \n",
      "dtypes: int64(3), object(13)\n",
      "memory usage: 24.1+ MB\n"
     ]
    }
   ],
   "source": [
    "df.info()"
   ]
  },
  {
   "cell_type": "code",
   "execution_count": 2,
   "metadata": {
    "colab": {
     "base_uri": "https://localhost:8080/"
    },
    "executionInfo": {
     "elapsed": 2924,
     "status": "ok",
     "timestamp": 1746093285338,
     "user": {
      "displayName": "Rauno Põld",
      "userId": "09447203352592851625"
     },
     "user_tz": -180
    },
    "id": "r74N_2FDRO-p",
    "outputId": "fac53522-8ba5-4b44-ad69-b93df8253607"
   },
   "outputs": [
    {
     "name": "stdout",
     "output_type": "stream",
     "text": [
      "Collecting fingerprints\n",
      "  Downloading fingerprints-1.2.3-py2.py3-none-any.whl.metadata (2.7 kB)\n",
      "Collecting normality<=3.0.0,>=2.0.0 (from fingerprints)\n",
      "  Downloading normality-2.6.1-py3-none-any.whl.metadata (3.8 kB)\n",
      "Collecting banal>=1.0.1 (from normality<=3.0.0,>=2.0.0->fingerprints)\n",
      "  Downloading banal-1.0.6-py2.py3-none-any.whl.metadata (1.4 kB)\n",
      "Requirement already satisfied: chardet in /usr/local/lib/python3.11/dist-packages (from normality<=3.0.0,>=2.0.0->fingerprints) (5.2.0)\n",
      "Requirement already satisfied: charset-normalizer>=2.0.0 in /usr/local/lib/python3.11/dist-packages (from normality<=3.0.0,>=2.0.0->fingerprints) (3.4.1)\n",
      "Requirement already satisfied: text-unidecode in /usr/local/lib/python3.11/dist-packages (from normality<=3.0.0,>=2.0.0->fingerprints) (1.3)\n",
      "Downloading fingerprints-1.2.3-py2.py3-none-any.whl (17 kB)\n",
      "Downloading normality-2.6.1-py3-none-any.whl (17 kB)\n",
      "Downloading banal-1.0.6-py2.py3-none-any.whl (6.1 kB)\n",
      "Installing collected packages: banal, normality, fingerprints\n",
      "Successfully installed banal-1.0.6 fingerprints-1.2.3 normality-2.6.1\n"
     ]
    }
   ],
   "source": [
    "pip install fingerprints"
   ]
  },
  {
   "cell_type": "code",
   "execution_count": 4,
   "metadata": {
    "colab": {
     "base_uri": "https://localhost:8080/"
    },
    "executionInfo": {
     "elapsed": 88440,
     "status": "ok",
     "timestamp": 1746093488730,
     "user": {
      "displayName": "Rauno Põld",
      "userId": "09447203352592851625"
     },
     "user_tz": -180
    },
    "id": "rr4oqDsiRtgW",
    "outputId": "4e9b4852-b666-4785-f621-7d508f5bcf47"
   },
   "outputs": [
    {
     "name": "stdout",
     "output_type": "stream",
     "text": [
      "Reading package lists... Done\n",
      "Building dependency tree... Done\n",
      "Reading state information... Done\n",
      "libicu-dev is already the newest version (70.1-2).\n",
      "0 upgraded, 0 newly installed, 0 to remove and 34 not upgraded.\n",
      "Collecting pyicu\n",
      "  Downloading pyicu-2.15.2.tar.gz (267 kB)\n",
      "\u001b[2K     \u001b[90m━━━━━━━━━━━━━━━━━━━━━━━━━━━━━━━━━━━━━━\u001b[0m \u001b[32m267.7/267.7 kB\u001b[0m \u001b[31m16.0 MB/s\u001b[0m eta \u001b[36m0:00:00\u001b[0m\n",
      "\u001b[?25h  Installing build dependencies ... \u001b[?25l\u001b[?25hdone\n",
      "  Getting requirements to build wheel ... \u001b[?25l\u001b[?25hdone\n",
      "  Preparing metadata (pyproject.toml) ... \u001b[?25l\u001b[?25hdone\n",
      "Building wheels for collected packages: pyicu\n",
      "  Building wheel for pyicu (pyproject.toml) ... \u001b[?25l\u001b[?25hdone\n",
      "  Created wheel for pyicu: filename=pyicu-2.15.2-cp311-cp311-linux_x86_64.whl size=2691075 sha256=0377de361120741e2a049e9f161648a76f6794554fc84423c8dc79adb8898d26\n",
      "  Stored in directory: /root/.cache/pip/wheels/d6/8f/fc/8184fe368e89ab76c136ba372b0127dd64c10830991f9301ab\n",
      "Successfully built pyicu\n",
      "Installing collected packages: pyicu\n",
      "Successfully installed pyicu-2.15.2\n"
     ]
    }
   ],
   "source": [
    "!apt-get install -y libicu-dev\n",
    "!pip install pyicu"
   ]
  },
  {
   "cell_type": "code",
   "execution_count": null,
   "metadata": {
    "executionInfo": {
     "elapsed": 9151,
     "status": "ok",
     "timestamp": 1746095733735,
     "user": {
      "displayName": "Rauno Põld",
      "userId": "09447203352592851625"
     },
     "user_tz": -180
    },
    "id": "f1GnT1qcaOhO"
   },
   "outputs": [],
   "source": [
    "from fingerprints.cleanup import clean_name_ascii\n",
    "\n",
    "df[\"name_ascii\"] = df[\"name_final\"].apply(clean_name_ascii)\n",
    "df[\"OS_ascii\"] = df[\"alias_final\"].apply(clean_name_ascii)"
   ]
  },
  {
   "cell_type": "code",
   "execution_count": null,
   "metadata": {
    "executionInfo": {
     "elapsed": 6413,
     "status": "ok",
     "timestamp": 1746095977105,
     "user": {
      "displayName": "Rauno Põld",
      "userId": "09447203352592851625"
     },
     "user_tz": -180
    },
    "id": "7wMBtzgEbXIO"
   },
   "outputs": [],
   "source": [
    "output_path = '/content/drive/MyDrive/Colab Notebooks/output02.csv'\n",
    "df.to_csv(output_path, sep=',', quotechar='\"', encoding='utf-8', index=False)"
   ]
  },
  {
   "cell_type": "code",
   "execution_count": null,
   "metadata": {},
   "outputs": [],
   "source": [
    "#!jupyter nbconvert --to html '/content/drive/MyDrive/Colab Notebooks/eeltootlus02.ipynb' --no-prompt --log-level=ERROR"
   ]
  }
 ],
 "metadata": {
  "colab": {
   "authorship_tag": "ABX9TyOW+U0evY9eCuBX4UEM0Gq6",
   "mount_file_id": "1LnG6riUYqzor7popBsDUhhZP-w0gjeaX",
   "provenance": []
  },
  "kernelspec": {
   "display_name": "Python 3",
   "name": "python3"
  },
  "language_info": {
   "name": "python"
  }
 },
 "nbformat": 4,
 "nbformat_minor": 0
}
